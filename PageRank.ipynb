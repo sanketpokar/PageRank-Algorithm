{
 "cells": [
  {
   "cell_type": "code",
   "execution_count": 30,
   "id": "4d17bbd4",
   "metadata": {},
   "outputs": [],
   "source": [
    "'''Importing modules'''\n",
    "import numpy as np\n",
    "import scipy.linalg as sc\n",
    "import collections"
   ]
  },
  {
   "cell_type": "code",
   "execution_count": 31,
   "id": "23daaee8",
   "metadata": {},
   "outputs": [
    {
     "name": "stdout",
     "output_type": "stream",
     "text": [
      "Enter the number of web pages: - 4\n"
     ]
    }
   ],
   "source": [
    "'''Taking number of web pages as input'''\n",
    "n = int(input(\"Enter the number of web pages: - \"))"
   ]
  },
  {
   "cell_type": "code",
   "execution_count": 32,
   "id": "34cff4d5",
   "metadata": {},
   "outputs": [],
   "source": [
    "graph = np.zeros([n, n], dtype = float)"
   ]
  },
  {
   "cell_type": "code",
   "execution_count": 33,
   "id": "456d811c",
   "metadata": {},
   "outputs": [
    {
     "name": "stdout",
     "output_type": "stream",
     "text": [
      "Enter the number of edges: -3\n"
     ]
    }
   ],
   "source": [
    "'''Taking number of edges as input'''\n",
    "edge = int(input(\"Enter the number of edges: -\"))"
   ]
  },
  {
   "cell_type": "code",
   "execution_count": 34,
   "id": "a65cb592",
   "metadata": {},
   "outputs": [
    {
     "name": "stdout",
     "output_type": "stream",
     "text": [
      "1 2\n",
      "2 3\n",
      "3 4\n"
     ]
    }
   ],
   "source": [
    "'''Taking input of edges'''\n",
    "for i in range(edge):\n",
    "    x,y = [int(x) for x in input().split()]\n",
    "    graph[x-1][y-1] = 1"
   ]
  },
  {
   "cell_type": "code",
   "execution_count": 35,
   "id": "74bca768",
   "metadata": {},
   "outputs": [],
   "source": [
    "'''Setting value of alpha'''\n",
    "alpha = 0.1"
   ]
  },
  {
   "cell_type": "code",
   "execution_count": 36,
   "id": "a8843018",
   "metadata": {},
   "outputs": [],
   "source": [
    "'''Calculating the graph matrix'''\n",
    "\n",
    "for i in range(n):\n",
    "    sum = 0\n",
    "    for j in range(n):\n",
    "        sum = sum+graph[i][j]\n",
    "    for j in range(n):\n",
    "        if sum!=0:\n",
    "            graph[i][j] = graph[i][j]/sum\n",
    "            graph[i][j] = graph[i][j]*(1-alpha)\n",
    "            graph[i][j] = graph[i][j]+(alpha/n)"
   ]
  },
  {
   "cell_type": "code",
   "execution_count": 37,
   "id": "9950d0fa",
   "metadata": {},
   "outputs": [
    {
     "data": {
      "text/plain": [
       "array([[0.025, 0.925, 0.025, 0.025],\n",
       "       [0.025, 0.025, 0.925, 0.025],\n",
       "       [0.025, 0.025, 0.025, 0.925],\n",
       "       [0.   , 0.   , 0.   , 0.   ]])"
      ]
     },
     "execution_count": 37,
     "metadata": {},
     "output_type": "execute_result"
    }
   ],
   "source": [
    "graph"
   ]
  },
  {
   "cell_type": "code",
   "execution_count": 38,
   "id": "72bfbeb5",
   "metadata": {},
   "outputs": [],
   "source": [
    "#Using linear algebra packages, with teleportations"
   ]
  },
  {
   "cell_type": "code",
   "execution_count": 39,
   "id": "24baaa5f",
   "metadata": {},
   "outputs": [],
   "source": [
    "v, V = np.linalg.eig(graph.T)\n",
    "left_principal_eigen = V[:, 0].T"
   ]
  },
  {
   "cell_type": "code",
   "execution_count": 40,
   "id": "a4b754b8",
   "metadata": {},
   "outputs": [],
   "source": [
    "'''Linear algebra left eigenvector calculations'''\n",
    "w,vl, vr = sc.eig(graph, left=True)\n",
    "eVals = w\n",
    "eVecs = vl\n",
    "order = np.absolute(eVals).argsort()[::-1]\n",
    "\n",
    "eVals = eVals[order]\n",
    "eVecs = eVecs[:, order]\n",
    "r = eVecs[:, 0]\n",
    "res = np.real(r/np.sum(r))\n"
   ]
  },
  {
   "cell_type": "code",
   "execution_count": 41,
   "id": "4dfb832d",
   "metadata": {},
   "outputs": [
    {
     "data": {
      "text/plain": [
       "array([0.025     , 0.08779424, 0.24551889, 0.64168687])"
      ]
     },
     "execution_count": 41,
     "metadata": {},
     "output_type": "execute_result"
    }
   ],
   "source": [
    "res"
   ]
  },
  {
   "cell_type": "code",
   "execution_count": 42,
   "id": "23b8769e",
   "metadata": {},
   "outputs": [],
   "source": [
    "dic = {};\n",
    "for i in range(len(res)):\n",
    "    dic[i] = res[i]\n",
    "odic = {k+1: v for k, v in sorted(dic.items(), key=lambda item: item[1])}"
   ]
  },
  {
   "cell_type": "code",
   "execution_count": 43,
   "id": "067ecea8",
   "metadata": {},
   "outputs": [
    {
     "data": {
      "text/plain": [
       "[4, 3, 2, 1]"
      ]
     },
     "execution_count": 43,
     "metadata": {},
     "output_type": "execute_result"
    }
   ],
   "source": [
    "ranks = list(odic.keys())\n",
    "ranks.reverse()\n",
    "ranks"
   ]
  },
  {
   "cell_type": "code",
   "execution_count": 44,
   "id": "c3ec225c",
   "metadata": {},
   "outputs": [],
   "source": [
    "#Using Power Iteration method, with teleportations"
   ]
  },
  {
   "cell_type": "code",
   "execution_count": 45,
   "id": "1aa4893b",
   "metadata": {},
   "outputs": [],
   "source": [
    "mgraph = np.asmatrix(graph)\n",
    "prev = np.zeros(n)\n",
    "prev[0] = 1\n",
    "prev = np.asmatrix(prev)"
   ]
  },
  {
   "cell_type": "code",
   "execution_count": 46,
   "id": "7e6f2014",
   "metadata": {},
   "outputs": [],
   "source": [
    "for i in range(1000):\n",
    "    prev = prev@graph\n",
    "    \n",
    "res = np.asarray(np.asarray(prev))\n",
    "res = np.asarray(res[0])"
   ]
  },
  {
   "cell_type": "code",
   "execution_count": 47,
   "id": "eaee4818",
   "metadata": {},
   "outputs": [
    {
     "data": {
      "text/plain": [
       "[4, 3, 2, 1]"
      ]
     },
     "execution_count": 47,
     "metadata": {},
     "output_type": "execute_result"
    }
   ],
   "source": [
    "dic = {};\n",
    "for i in range(len(res)):\n",
    "    dic[i] = res[i]\n",
    "odic = {k+1: v for k, v in sorted(dic.items(), key=lambda item: item[1])}\n",
    "\n",
    "odic\n",
    "\n",
    "ranks = list(odic.keys())\n",
    "ranks.reverse()\n",
    "ranks"
   ]
  },
  {
   "cell_type": "code",
   "execution_count": 20,
   "id": "b6e89d20",
   "metadata": {},
   "outputs": [
    {
     "name": "stdout",
     "output_type": "stream",
     "text": [
      "Enter the number of web pages: - 4\n"
     ]
    }
   ],
   "source": [
    "#Without teleportations\n",
    "n = int(input(\"Enter the number of web pages: - \"))"
   ]
  },
  {
   "cell_type": "code",
   "execution_count": 21,
   "id": "19aceedd",
   "metadata": {},
   "outputs": [],
   "source": [
    "graph = np.zeros([n, n], dtype = float)"
   ]
  },
  {
   "cell_type": "code",
   "execution_count": 22,
   "id": "01b92788",
   "metadata": {},
   "outputs": [
    {
     "name": "stdout",
     "output_type": "stream",
     "text": [
      "Enter the number of edges: -5\n"
     ]
    }
   ],
   "source": [
    "edge = int(input(\"Enter the number of edges: -\"))"
   ]
  },
  {
   "cell_type": "code",
   "execution_count": 23,
   "id": "c9f0fdd5",
   "metadata": {},
   "outputs": [
    {
     "name": "stdout",
     "output_type": "stream",
     "text": [
      "1 2\n",
      "3 4\n",
      "3 2\n",
      "4 3\n",
      "4 2\n"
     ]
    }
   ],
   "source": [
    "for i in range(edge):\n",
    "    x,y = [int(x) for x in input().split()]\n",
    "    graph[x-1][y-1] = 1"
   ]
  },
  {
   "cell_type": "code",
   "execution_count": 24,
   "id": "905f8db0",
   "metadata": {},
   "outputs": [],
   "source": [
    "for i in range(n):\n",
    "    sum = 0\n",
    "    for j in range(n):\n",
    "        sum = sum+graph[i][j]\n",
    "    for j in range(n):\n",
    "        if sum!=0:\n",
    "            graph[i][j] = graph[i][j]/sum\n",
    "            graph[i][j] = graph[i][j]"
   ]
  },
  {
   "cell_type": "code",
   "execution_count": 25,
   "id": "f0f40e56",
   "metadata": {},
   "outputs": [
    {
     "data": {
      "text/plain": [
       "array([[0. , 1. , 0. , 0. ],\n",
       "       [0. , 0. , 0. , 0. ],\n",
       "       [0. , 0.5, 0. , 0.5],\n",
       "       [0. , 0.5, 0.5, 0. ]])"
      ]
     },
     "execution_count": 25,
     "metadata": {},
     "output_type": "execute_result"
    }
   ],
   "source": [
    "graph"
   ]
  },
  {
   "cell_type": "code",
   "execution_count": 26,
   "id": "af226152",
   "metadata": {},
   "outputs": [],
   "source": [
    "v, V = np.linalg.eig(graph.T)\n",
    "left_principal_eigen = V[:, 0].T"
   ]
  },
  {
   "cell_type": "code",
   "execution_count": 27,
   "id": "4ad9b1bd",
   "metadata": {},
   "outputs": [],
   "source": [
    "w,vl, vr = sc.eig(graph, left=True)\n",
    "eVals = w\n",
    "eVecs = vl\n",
    "order = np.absolute(eVals).argsort()[::-1]\n",
    "\n",
    "eVals = eVals[order]\n",
    "eVecs = eVecs[:, order]\n",
    "r = eVecs[:, 0]\n",
    "res = np.real(r/np.sum(r))"
   ]
  },
  {
   "cell_type": "code",
   "execution_count": 28,
   "id": "81670e25",
   "metadata": {},
   "outputs": [
    {
     "data": {
      "text/plain": [
       "[2, 3, 4, 1]"
      ]
     },
     "execution_count": 28,
     "metadata": {},
     "output_type": "execute_result"
    }
   ],
   "source": [
    "dic = {};\n",
    "for i in range(len(res)):\n",
    "    dic[i] = res[i]\n",
    "odic = {k+1: v for k, v in sorted(dic.items(), key=lambda item: item[1])}\n",
    "\n",
    "ranks = list(odic.keys())\n",
    "ranks.reverse()\n",
    "ranks"
   ]
  },
  {
   "cell_type": "code",
   "execution_count": 29,
   "id": "37dbb5cd",
   "metadata": {},
   "outputs": [
    {
     "data": {
      "text/plain": [
       "[4, 3, 2, 1]"
      ]
     },
     "execution_count": 29,
     "metadata": {},
     "output_type": "execute_result"
    }
   ],
   "source": [
    "#Power Iteration, without teleportations\n",
    "mgraph = np.asmatrix(graph)\n",
    "prev = np.zeros(n)\n",
    "prev[0] = 1\n",
    "prev = np.asmatrix(prev)\n",
    "\n",
    "for i in range(1000):\n",
    "    prev = prev@graph\n",
    "    \n",
    "res = np.asarray(np.asarray(prev))\n",
    "res = np.asarray(res[0])\n",
    "\n",
    "dic = {};\n",
    "for i in range(len(res)):\n",
    "    dic[i] = res[i]\n",
    "odic = {k+1: v for k, v in sorted(dic.items(), key=lambda item: item[1])}\n",
    "\n",
    "odic\n",
    "\n",
    "ranks = list(odic.keys())\n",
    "ranks.reverse()\n",
    "ranks"
   ]
  },
  {
   "cell_type": "code",
   "execution_count": null,
   "id": "ad3e50b0",
   "metadata": {},
   "outputs": [],
   "source": []
  }
 ],
 "metadata": {
  "kernelspec": {
   "display_name": "Python 3 (ipykernel)",
   "language": "python",
   "name": "python3"
  },
  "language_info": {
   "codemirror_mode": {
    "name": "ipython",
    "version": 3
   },
   "file_extension": ".py",
   "mimetype": "text/x-python",
   "name": "python",
   "nbconvert_exporter": "python",
   "pygments_lexer": "ipython3",
   "version": "3.9.10"
  }
 },
 "nbformat": 4,
 "nbformat_minor": 5
}
